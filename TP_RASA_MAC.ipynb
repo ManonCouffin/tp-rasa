{
 "cells": [
  {
   "cell_type": "markdown",
   "metadata": {},
   "source": [
    "# TP AGENTS CONVERSATIONNELS : TP rasa (version 2.8)\n",
    "\n",
    "## Tutoriel disponible en ligne\n",
    "\n",
    "Accéder à la page suivante : https://rasa.com/docs/rasa/2.x/\n",
    "A travers cette page, procéder aux différentes étapes de développement d'un chatbot. Ce notebook sert de compte rendu et devra être déposé à l'issue des séances. Travail individuel ou en binôme. \n",
    "\n",
    "NOM ETUDIANT : Manon Augé Couffin"
   ]
  },
  {
   "cell_type": "markdown",
   "metadata": {},
   "source": [
    "## ENVIRONNEMENT DE TRAVAIL MFJA ou PC PERSO  "
   ]
  },
  {
   "cell_type": "markdown",
   "metadata": {},
   "source": [
    "### TP sur les machines de la MFJA\n",
    "\n",
    "Si vous êtes sur les PC de la MFJA, connectez-vous sous Windows (seul choix possible)\n",
    "    1- Lancer la machine virtuelle (VMware) nommée Ubuntu 64-bit_SRI_PAROLE (dédiée aux TP de parole 2A et 3A SRI),sous C:\\VWware\\Ubuntu 64-bit_SRI_PAROLE_2023 \n",
    "* Cliquer sur la machine = icône 3 carrés imbriqués\n",
    "    - Ne pas saisir de licence --> Continue\n",
    "    - Sélectionner I copied It et Skip this version\n",
    "* La machine est lancée avec le login sriparole\n",
    "* Le mot de passe vous sera donné en séance \n",
    "    \n",
    "    2- Aller dans le dossier dédié home/Documents/SRI3A_TP_RASA \n",
    "        \n",
    "    3- Créer un Dossier à votre nom TP_RASA_VOTRE_NOM et vous y déplacer \n",
    "   \n",
    "    4- Activer l'environnement de travail -> rasa est installé dans un environnement virtuel conda \n",
    "\n",
    "    5- Si conda est activé par défaut vous avez (base) dans le prompt sinon, depuis le terminal, lancer conda avec $ source ~/.bashrcCONDA\n",
    "        \n",
    "    6- une fois conda lancé vérifier la présence de l'environnement virtuel env_rasa2.8 dédié au TP  et l'activer \n",
    "                $ conda info -e\n",
    "                $ conda activate env_rasa2.8\n",
    "\n",
    "--> Vous devez avoir le prompt : (env_rasa2.8) sriparole@sriparole-virtual-machine:~Documents/SRI3A_TP_RASA \n",
    "            \n",
    "    7- A la fin du TP quitter l'environnement avec : $ conda deactivate             \n",
    "Pour retrouver votre travail rester sur la même machine en salle de TP, sinon, en fin de séance faire une archive de votre répertoire de TP et déposez-là sur moodle ou sur votre drive. \n",
    "       \n",
    "       \n",
    "### TP sur votre machine   \n",
    "\n",
    "Si vous avez installé rasa v2.8 sur votre PC (en suivant les directives sur moodle) et en ayant créé un environnement virtuel pour faire cette installation (avec conda de préférence), vous devez exécuter la commande depuis le terminal et sous le répertoire dédié au TP_RASA_VOTRE_NOM\n",
    "               $ rasa init' \n",
    "à vous de voir où vous l'avez mis MAIS on ne travaille pas sous Téléchargement !!!\n",
    "            \n",
    "Pour installer conda voir : https://docs.conda.io/projects/conda/en/latest/commands/install.html\n",
    "        \n",
    "Positionnez-vous dans votre répertoire TP_RASA_VOTRE_NOM\n",
    "            \n",
    "-------------------        \n",
    "            \n",
    "       \n",
    "Dans les deux cas, vous êtes dans le répertoire TP_RASA_VOTRE_NOM. Créer une copie de CHATBOT_V0 situé dans le répertoire père et nommer la copie CHATBOT_V1_VOTRE_NOM. Vous déplacer dans ce dossier.\n",
    "\n",
    "* Ce sera votre version de travail \n",
    "* Ceci afin de ne pas modifier la version CHATBOT_V0 initiale\n",
    "\n",
    "Vous avez alors l'organisation suivante :         "
   ]
  },
  {
   "cell_type": "raw",
   "metadata": {},
   "source": [
    ".\n",
    "├── actions\n",
    "│   ├── __init__.py\n",
    "│   └── actions.py\n",
    "├── config.yml\n",
    "├── credentials.yml\n",
    "├── data\n",
    "│   ├── nlu.yml\n",
    "│   └── stories.yml\n",
    "├── domain.yml\n",
    "├── endpoints.yml\n",
    "├── models\n",
    "│   └── <timestamp>.tar.gz\n",
    "└── tests\n",
    "   └── test_stories.yml"
   ]
  },
  {
   "cell_type": "markdown",
   "metadata": {},
   "source": [
    "Votre chatbot est dans votre répertoire TP_RASA_VOTRE_NOM/CHATBOT_V1_VOTRE_NOM. Il faudra faire une archive du chatbot développé par la suite. "
   ]
  },
  {
   "cell_type": "markdown",
   "metadata": {},
   "source": [
    "## PARTIE 1 : ETUDE DU CHATBOT DE BASE"
   ]
  },
  {
   "cell_type": "markdown",
   "metadata": {},
   "source": [
    "### 1- Partie Compréhension "
   ]
  },
  {
   "cell_type": "raw",
   "metadata": {},
   "source": [
    "INTENTS et ENTITIES (Intentions et Entités) - rasa V2\n",
    "--------------------------------------------------------------\n",
    "\n",
    "Observer le contenu du fichier \"data/nlu.yml\"   \n",
    "\n",
    "version: \"2.0\"\n",
    "\n",
    "nlu:\n",
    "- intent: greet\n",
    "  examples: |\n",
    "    - hey\n",
    "    - hello\n",
    "    - hi\n",
    "    - hello there\n",
    "    - good morning\n",
    "    - good evening\n",
    "    - moin\n",
    "    - hey there\n",
    "    - let's go\n",
    "    - hey dude\n",
    "    - goodmorning\n",
    "    - goodevening\n",
    "    - good afternoon\n",
    "\n",
    "- intent: goodbye\n",
    "  examples: |\n",
    "    - good afternoon\n",
    "    - cu\n",
    "    - good by\n",
    "    - cee you later\n",
    "    - good night\n",
    "    - bye\n",
    "    - goodbye\n",
    "    - have a nice day\n",
    "    - see you around\n",
    "    - bye bye\n",
    "    - see you later\n",
    "\n",
    "- intent: affirm\n",
    "  examples: |\n",
    "    - yes\n",
    "    - y\n",
    "    - indeed\n",
    "    - of course\n",
    "    - that sounds good\n",
    "    - correct\n",
    "\n",
    "- intent: deny\n",
    "  examples: |\n",
    "    - no\n",
    "    - n\n",
    "    - never\n",
    "    - I don't think so\n",
    "    - don't like that\n",
    "    - no way\n",
    "    - not really\n",
    "\n",
    "- intent: mood_great\n",
    "  examples: |\n",
    "    - perfect\n",
    "    - great\n",
    "    - amazing\n",
    "    - feeling like a king\n",
    "    - wonderful\n",
    "    - I am feeling very good\n",
    "    - I am great\n",
    "    - I am amazing\n",
    "    - I am going to save the world\n",
    "    - super stoked\n",
    "    - extremely good\n",
    "    - so so perfect\n",
    "    - so good\n",
    "    - so perfect\n",
    "\n",
    "- intent: mood_unhappy\n",
    "  examples: |\n",
    "    - my day was horrible\n",
    "    - I am sad\n",
    "    - I don't feel very well\n",
    "    - I am disappointed\n",
    "    - super sad\n",
    "    - I'm so sad\n",
    "    - sad\n",
    "    - very sad\n",
    "    - unhappy\n",
    "    - not good\n",
    "    - not very good\n",
    "    - extremly sad\n",
    "    - so saad\n",
    "    - so sad\n",
    "\n",
    "- intent: bot_challenge\n",
    "  examples: |\n",
    "    - are you a bot?\n",
    "    - are you a human?\n",
    "    - am I talking to a bot?\n",
    "    - am I talking to a human?\n",
    "-----------------------------------------------------"
   ]
  },
  {
   "cell_type": "markdown",
   "metadata": {},
   "source": [
    "**1) Comment interprétez-vous le contenu de ce fichier (= commentez en quelques lignes) ?**\n",
    "\n",
    "Le contenu de ce fichier est des intents avec des exemples pour chacun d'eux. Cela permet au chatbot d'avoir une ligne de depar pour comprendre l'utilisateur.\n",
    "\n",
    "**2) Combien d'intents et lesquelles ?**\n",
    "\n",
    "Il y a sept intents : greet, goodbye, affirm, deny, mood_great, mood_unhappy et bot_challenge.\n",
    "\n",
    "**3) Combien d'entités et lesquelles ?**\n",
    "\n",
    "Il y en a aucune.\n"
   ]
  },
  {
   "cell_type": "markdown",
   "metadata": {},
   "source": [
    "### 2- Configuration"
   ]
  },
  {
   "cell_type": "raw",
   "metadata": {},
   "source": [
    "PIPELINE et POLICIES\n",
    "-------------------------------------------------------------\n",
    "Observer le contenu du fichier \"config.yml\" - Celles-ci peuvent ne pas être commentées suivant les versions - commentaire # pipeine par défaut  \n",
    "\n",
    "# Configuration for Rasa NLU.\n",
    "# https://rasa.com/docs/rasa/nlu/components/\n",
    "language: en\n",
    "\n",
    "pipeline:\n",
    "# # No configuration for the NLU pipeline was provided. The following default pipeline was used to train your model.\n",
    "# # If you'd like to customize it, uncomment and adjust the pipeline.\n",
    "# # See https://rasa.com/docs/rasa/tuning-your-model for more information.\n",
    "#   - name: WhitespaceTokenizer\n",
    "#   - name: RegexFeaturizer\n",
    "#   - name: LexicalSyntacticFeaturizer\n",
    "#   - name: CountVectorsFeaturizer\n",
    "#   - name: CountVectorsFeaturizer\n",
    "#     analyzer: char_wb\n",
    "#     min_ngram: 1\n",
    "#     max_ngram: 4\n",
    "#   - name: DIETClassifier\n",
    "#     epochs: 100\n",
    "#   - name: EntitySynonymMapper\n",
    "#   - name: ResponseSelector\n",
    "#     epochs: 100\n",
    "#   - name: FallbackClassifier\n",
    "#     threshold: 0.3\n",
    "#     ambiguity_threshold: 0.1\n",
    "\n",
    "# Configuration for Rasa Core.\n",
    "# https://rasa.com/docs/rasa/core/policies/\n",
    "policies:\n",
    "# # No configuration for policies was provided. The following default policies were used to train your model.\n",
    "# # If you'd like to customize them, uncomment and adjust the policies.\n",
    "# # See https://rasa.com/docs/rasa/policies for more information.\n",
    "#   - name: MemoizationPolicy\n",
    "#   - name: TEDPolicy\n",
    "#     max_history: 5\n",
    "#     epochs: 100\n",
    "#   - name: RulePolicy\n",
    "\n",
    "  \n",
    "--------------------------------------------------------------"
   ]
  },
  {
   "cell_type": "markdown",
   "metadata": {},
   "source": [
    "**1) Comment interprétez-vous le contenu de ce fichier ?** \n",
    "\n",
    "\n",
    "\n",
    "**2) Chacune des 3 parties ?**\n",
    "\n"
   ]
  },
  {
   "cell_type": "markdown",
   "metadata": {},
   "source": [
    "### 3- Gestion de dialogue\n",
    "#### 3.1- STORIES "
   ]
  },
  {
   "cell_type": "raw",
   "metadata": {},
   "source": [
    "Observer le contenu du fichier \"data/stories.yml\" \n",
    "\n",
    "version: \"2.0\"\n",
    "\n",
    "stories:\n",
    "\n",
    "- story: happy path\n",
    "  steps:\n",
    "  - intent: greet\n",
    "  - action: utter_greet\n",
    "  - intent: mood_great\n",
    "  - action: utter_happy\n",
    "\n",
    "- story: sad path 1\n",
    "  steps:\n",
    "  - intent: greet\n",
    "  - action: utter_greet\n",
    "  - intent: mood_unhappy\n",
    "  - action: utter_cheer_up\n",
    "  - action: utter_did_that_help\n",
    "  - intent: affirm\n",
    "  - action: utter_happy\n",
    "\n",
    "- story: sad path 2\n",
    "  steps:\n",
    "  - intent: greet\n",
    "  - action: utter_greet\n",
    "  - intent: mood_unhappy\n",
    "  - action: utter_cheer_up\n",
    "  - action: utter_did_that_help\n",
    "  - intent: deny\n",
    "  - action: utter_goodbye\n",
    "  \n",
    "-------------------------------------------------------------"
   ]
  },
  {
   "cell_type": "markdown",
   "metadata": {},
   "source": [
    "**1) Comment interprétez-vous le contenu de ce fichier ?** \n",
    "\n",
    "Ce sont des chemins à suivre sur l'ordre d'utilisation des intents.\n",
    "\n",
    "**2) Combien de stories ?** \n",
    "\n",
    "Il existe trois stories : happy path, sad path 1 et sad path 2.\n",
    "\n",
    "**3)Quel rôle ?** \n",
    "\n",
    "Le premier a pour but d'avoir une dicussion avec quelqu'un de joyeux/heureux. Les deux autres sont dans une mauvaise phase (mauvaise humeur. Leur difference est que le chatbot fini sur une note positive sur le premier. Cela n'est pas le cas pour le dernier."
   ]
  },
  {
   "cell_type": "markdown",
   "metadata": {},
   "source": [
    "#### 3.2- RULES "
   ]
  },
  {
   "cell_type": "raw",
   "metadata": {},
   "source": [
    "Observer le contenu du fichier \"data/rules.yml\" \n",
    "\n",
    "version: \"2.0\"\n",
    "\n",
    "rules:\n",
    "\n",
    "- rule: Say goodbye anytime the user says goodbye\n",
    "  steps:\n",
    "  - intent: goodbye\n",
    "  - action: utter_goodbye\n",
    "\n",
    "- rule: Say 'I am a bot' anytime the user challenges\n",
    "  steps:\n",
    "  - intent: bot_challenge\n",
    "  - action: utter_iamabot"
   ]
  },
  {
   "cell_type": "markdown",
   "metadata": {},
   "source": [
    "**1) Comment interprétez-vous le contenu de ce fichier ?** \n",
    "\n",
    "Ce sont des règles pour faire répondre la chatbot dans certaines situation bien particulière.\n",
    "\n",
    "**2) Combien de règles ?** \n",
    "\n",
    "Il y a deux règles : goodbye et challenge.\n",
    "\n",
    "**3) Quel rôle ?**\n",
    "\n",
    "Goodbye a pour but de dire au revoir en si l'utilisateur le dit.\n",
    "Challenge a pour but de dire que c'est un bot quand l'utilisateur le challenge."
   ]
  },
  {
   "cell_type": "markdown",
   "metadata": {},
   "source": [
    "### 4- Domaine"
   ]
  },
  {
   "cell_type": "raw",
   "metadata": {},
   "source": [
    "Consultez le fichier décrivant l'environnement du chatbot\n",
    "---------------------------------------------------------------------\n",
    "\n",
    "Observer le contenu du fichier \"domain.yml\" peut être légèrement différent suivant les versions. \n",
    "\n",
    "session_config:\n",
    "  session_expiration_time: 60\n",
    "  carry_over_slots_to_new_session: true\n",
    "  \n",
    "intents:\n",
    "- greet\n",
    "- goodbye\n",
    "- affirm\n",
    "- deny\n",
    "- mood_great\n",
    "- mood_unhappy\n",
    "- bot_challenge\n",
    "\n",
    "responses:\n",
    "  utter_greet:\n",
    "  - text: Hey! How are you?\n",
    "  utter_cheer_up:\n",
    "  - image: https://i.imgur.com/nGF1K8f.jpg\n",
    "    text: 'Here is something to cheer you up:'\n",
    "  utter_did_that_help:\n",
    "  - text: Did that help you?\n",
    "  utter_happy:\n",
    "  - text: Great, carry on!\n",
    "  utter_goodbye:\n",
    "  - text: Bye\n",
    "  utter_iamabot:\n",
    "  - text: I am a bot, powered by Rasa.\n",
    "\n",
    "\n",
    "---------------------------------------------------------------------"
   ]
  },
  {
   "cell_type": "markdown",
   "metadata": {},
   "source": [
    "**Comment interprétez-vous le contenu de ce fichier ? Chacune des parties ?** \n",
    "\n",
    "C'est un fichier qui liste tous les intent et les actions."
   ]
  },
  {
   "cell_type": "markdown",
   "metadata": {},
   "source": [
    "## PARTIE 2 : APPRENTISSAGE ET EVALUATION DU CHATBOT"
   ]
  },
  {
   "cell_type": "markdown",
   "metadata": {},
   "source": [
    "RASA a été installé en local dans l'environnement virtuel env_rasa2.8 construit avec conda. \n",
    "\n",
    "Il faut que c'est environnement ait été activé. \n",
    "-> voir détal dans la section ENVIRONNEMENT en début de sujet. \n",
    "\n",
    "### 5- Apprentissage\n",
    "\n",
    "ATTENTION A BIEN ETRE DANS VOTRE REPERTOIRE CHATBOT_V1_VOTRE_NOM\n",
    "\n",
    "#### 5.1- Consultez le répertoire ./models de votre Chatbot \n",
    "Si celui-ci contient un fichier <Nom_modele>.tar.gz supprimez ou renommez ce fichier\n",
    "\n",
    "#### 5.2- Depuis le répertoire CHATBOT_V1_VOTRE_NOM exécutez la commande : rasa train"
   ]
  },
  {
   "cell_type": "raw",
   "metadata": {},
   "source": [
    "-----------------------------------------------------------------------------------\n",
    "Training NLU model...\n",
    "2023-12-06 14:51:27 INFO     rasa.shared.nlu.training_data.training_data  - Training data stats:\n",
    "2023-12-06 14:51:27 INFO     rasa.shared.nlu.training_data.training_data  - Number of intent examples: 69 (7 distinct intents)\n",
    "\n",
    "2023-12-06 14:51:27 INFO     rasa.shared.nlu.training_data.training_data  -   Found intents: 'bot_challenge', 'deny', 'mood_unhappy', 'goodbye', 'affirm', 'mood_great', 'greet'\n",
    "2023-12-06 14:51:27 INFO     rasa.shared.nlu.training_data.training_data  - Number of response examples: 0 (0 distinct responses)\n",
    "2023-12-06 14:51:27 INFO     rasa.shared.nlu.training_data.training_data  - Number of entity examples: 0 (0 distinct entities)\n",
    "2023-12-06 14:51:27 INFO     rasa.nlu.model  - Starting to train component WhitespaceTokenizer\n",
    "2023-12-06 14:51:27 INFO     rasa.nlu.model  - Finished training component.\n",
    "2023-12-06 14:51:27 INFO     rasa.nlu.model  - Starting to train component RegexFeaturizer\n",
    "2023-12-06 14:51:27 INFO     rasa.nlu.model  - Finished training component.\n",
    "2023-12-06 14:51:27 INFO     rasa.nlu.model  - Starting to train component LexicalSyntacticFeaturizer\n",
    "2023-12-06 14:51:27 INFO     rasa.nlu.model  - Finished training component.\n",
    "2023-12-06 14:51:27 INFO     rasa.nlu.model  - Starting to train component CountVectorsFeaturizer\n",
    "2023-12-06 14:51:27 INFO     rasa.nlu.featurizers.sparse_featurizer.count_vectors_featurizer  - 80 vocabulary items were created for text attribute.\n",
    "2023-12-06 14:51:27 INFO     rasa.nlu.model  - Finished training component.\n",
    "2023-12-06 14:51:27 INFO     rasa.nlu.model  - Starting to train component CountVectorsFeaturizer\n",
    "2023-12-06 14:51:27 INFO     rasa.nlu.featurizers.sparse_featurizer.count_vectors_featurizer  - 697 vocabulary items were created for text attribute.\n",
    "2023-12-06 14:51:27 INFO     rasa.nlu.model  - Finished training component.\n",
    "2023-12-06 14:51:27 INFO     rasa.nlu.model  - Starting to train component DIETClassifier\n",
    "Epochs: 100%|███████████████| 100/100 [00:18<00:00,  5.41it/s, t_loss=1.2, i_acc=0.986]\n",
    "2023-12-06 14:51:46 INFO     rasa.nlu.model  - Finished training component.\n",
    "2023-12-06 14:51:46 INFO     rasa.nlu.model  - Starting to train component EntitySynonymMapper\n",
    "2023-12-06 14:51:46 INFO     rasa.nlu.model  - Finished training component.\n",
    "2023-12-06 14:51:46 INFO     rasa.nlu.model  - Starting to train component ResponseSelector\n",
    "2023-12-06 14:51:46 INFO     rasa.nlu.selectors.response_selector  - Retrieval intent parameter was left to its default value. This response selector will be trained on training examples combining all retrieval intents.\n",
    "2023-12-06 14:51:46 INFO     rasa.nlu.model  - Finished training component.\n",
    "2023-12-06 14:51:46 INFO     rasa.nlu.model  - Starting to train component FallbackClassifier\n",
    "2023-12-06 14:51:46 INFO     rasa.nlu.model  - Finished training component.\n",
    "2023-12-06 14:51:46 INFO     rasa.nlu.model  - Successfully saved model into '/tmp/tmpc41l6i5l/nlu'\n",
    "NLU model training completed.\n",
    "Training Core model...\n",
    "2023-12-06 14:51:53 WARNING  rasa.shared.utils.common  - The UnexpecTED Intent Policy is currently experimental and might change or be removed in the future 🔬 Please share your feedback on it in the forum (https://forum.rasa.com) to help us make this feature ready for production.\n",
    "Processed story blocks: 100%|████████████| 3/3 [00:00<00:00, 3028.38it/s, # trackers=1]\n",
    "Processed story blocks: 100%|█████████████| 3/3 [00:00<00:00, 711.86it/s, # trackers=3]\n",
    "Processed story blocks: 100%|████████████| 3/3 [00:00<00:00, 308.64it/s, # trackers=12]\n",
    "Processed story blocks: 100%|█████████████| 3/3 [00:00<00:00, 73.81it/s, # trackers=39]\n",
    "Processed rules: 100%|███████████████████| 2/2 [00:00<00:00, 3018.57it/s, # trackers=1]\n",
    "Processed trackers: 100%|█████████████████| 3/3 [00:00<00:00, 2072.63it/s, # action=12]\n",
    "Processed actions: 12it [00:00, 11169.92it/s, # examples=12]\n",
    "Processed trackers: 100%|██████████████████| 2/2 [00:00<00:00, 3723.31it/s, # action=5]\n",
    "Processed actions: 5it [00:00, 18460.85it/s, # examples=4]\n",
    "Processed trackers: 100%|█████████████████| 3/3 [00:00<00:00, 2258.65it/s, # action=12]\n",
    "Processed trackers: 100%|██████████████████████████████| 2/2 [00:00<00:00, 2269.65it/s]\n",
    "Processed trackers: 100%|██████████████████████████████| 5/5 [00:00<00:00, 2013.97it/s]\n",
    "Processed trackers: 100%|█████████████| 120/120 [00:00<00:00, 5169.32it/s, # intent=12]\n",
    "Epochs: 100%|█████| 100/100 [00:07<00:00, 13.69it/s, t_loss=0.128, loss=0.00744, acc=1]\n",
    "Processed trackers: 100%|█████████████| 120/120 [00:00<00:00, 3161.08it/s, # action=30]\n",
    "Epochs: 100%|███████| 100/100 [00:08<00:00, 12.01it/s, t_loss=0.595, loss=0.412, acc=1]\n",
    "2023-12-06 14:52:11 INFO     rasa.core.agent  - Persisted model to '/tmp/tmpc41l6i5l/core'\n",
    "Core model training completed.\n",
    "Your Rasa model is trained and saved at '/home/sriparole/Documents/TP_RASA_ManonAugeCouffin/CHATBOT_V1/models/20231206-145213.tar.gz'.\n",
    "-----------------------------------------------------------------------------------"
   ]
  },
  {
   "cell_type": "markdown",
   "metadata": {},
   "source": [
    "**1) Comment interprétez-vous cette trace ?** \n",
    "\n",
    "Dans un premier temps il check les infos de la pipeline. Puis il vient tester les stories, les rules et les domaines.\n",
    "\n",
    "**2) Faites le lien avec le fichier config.yml et commentez ce que vous pensez avoir compris.**\n",
    "\n",
    "Dans le fichier config.yml, il y a les pipelines. L'entrainement entraine chacune d'entre elle."
   ]
  },
  {
   "cell_type": "markdown",
   "metadata": {},
   "source": [
    "### 6- EVALUATION \n",
    "\n",
    "#### 6.1- Données de test"
   ]
  },
  {
   "cell_type": "raw",
   "metadata": {},
   "source": [
    "Observer le contenu du fichier ./tests/test_stories.yml\n",
    "--------------------------------------------------------\n",
    "\n",
    "#### This file contains tests to evaluate that your bot behaves as expected.\n",
    "#### If you want to learn more, please see the docs: https://rasa.com/docs/rasa/testing-your-assistant\n",
    "\n",
    "stories:\n",
    "- story: happy path 1\n",
    "  steps:\n",
    "  - user: |\n",
    "      hello there!\n",
    "    intent: greet\n",
    "  - action: utter_greet\n",
    "  - user: |\n",
    "      amazing\n",
    "    intent: mood_great\n",
    "  - action: utter_happy\n",
    "\n",
    "- story: happy path 2\n",
    "  steps:\n",
    "  - user: |\n",
    "      hello there!\n",
    "    intent: greet\n",
    "  - action: utter_greet\n",
    "  - user: |\n",
    "      amazing\n",
    "    intent: mood_great\n",
    "  - action: utter_happy\n",
    "  - user: |\n",
    "      bye-bye!\n",
    "    intent: goodbye\n",
    "  - action: utter_goodbye\n",
    "\n",
    "- story: sad path 1\n",
    "  steps:\n",
    "  - user: |\n",
    "      hello\n",
    "    intent: greet\n",
    "  - action: utter_greet\n",
    "  - user: |\n",
    "      not good\n",
    "    intent: mood_unhappy\n",
    "  - action: utter_cheer_up\n",
    "  - action: utter_did_that_help\n",
    "  - user: |\n",
    "      yes\n",
    "    intent: affirm\n",
    "  - action: utter_happy\n",
    "\n",
    "- story: sad path 2\n",
    "  steps:\n",
    "  - user: |\n",
    "      hello\n",
    "    intent: greet\n",
    "  - action: utter_greet\n",
    "  - user: |\n",
    "      not good\n",
    "    intent: mood_unhappy\n",
    "  - action: utter_cheer_up\n",
    "  - action: utter_did_that_help\n",
    "  - user: |\n",
    "      not really\n",
    "    intent: deny\n",
    "  - action: utter_goodbye\n",
    "\n",
    "- story: sad path 3\n",
    "  steps:\n",
    "  - user: |\n",
    "      hi\n",
    "    intent: greet\n",
    "  - action: utter_greet\n",
    "  - user: |\n",
    "      very terrible\n",
    "    intent: mood_unhappy\n",
    "  - action: utter_cheer_up\n",
    "  - action: utter_did_that_help\n",
    "  - user: |\n",
    "      no\n",
    "    intent: deny\n",
    "  - action: utter_goodbye\n",
    "\n",
    "- story: say goodbye\n",
    "  steps:\n",
    "  - user: |\n",
    "      bye-bye!\n",
    "    intent: goodbye\n",
    "  - action: utter_goodbye\n",
    "\n",
    "- story: bot challenge\n",
    "  steps:\n",
    "  - user: |\n",
    "      are you a bot?\n",
    "    intent: bot_challenge\n",
    "  - action: utter_iamabot\n",
    "\n",
    "--------------------------------------------------"
   ]
  },
  {
   "cell_type": "markdown",
   "metadata": {},
   "source": [
    "**1) Comment interprétez-vous le contenu de ce fichier ?** \n",
    "\n",
    "C'est une serie de tests sur les sories.\n",
    "\n",
    "**2) Combien y-at-il de story de test ?** \n",
    "\n",
    "Il y a sept stories : happy path 1, happy path 2, sad path 1, sad path 2, sad path 3, say goodbye et bot challenge.\n",
    "\n",
    "**3) Combien y-a-t'il de tour de parole utilisateur ? combien y-a-t'il d'actions ?**\n",
    "\n",
    "Pour happy path 1 : il y a 2 tours de parole utilisateur et 2 actions.\n",
    "\n",
    "Pour happy path 2 : il y a 3 tours de parole utilisateur et 3 actions.\n",
    "\n",
    "Pour sad path 1 : il y a 3 tours de parole utilisateur et 4 actions.\n",
    "\n",
    "Pour sad path 2 : il y a 2 tours de parole utilisateur et 4 actions.\n",
    "\n",
    "Pour sad path 3 : il y a 3 tours de parole utilisateur et 4 actions.\n",
    "\n",
    "Pour say goodbye : il y a 1 tour de parole utilisateur et 1 action.\n",
    "\n",
    "Pour bot challenge : il y a 1 tour de parole utilisateur et 1 action.\n"
   ]
  },
  {
   "cell_type": "markdown",
   "metadata": {},
   "source": [
    "#### 6.2- Résultas de l'évaluation\n",
    "Depuis le répertoire CHATBOT_V1_VOTRE_NOM exécutez la commande : rasa test "
   ]
  },
  {
   "cell_type": "raw",
   "metadata": {},
   "source": [
    "-----------------------------------------------------------------------------\n",
    "2023-12-06 15:16:45 INFO     rasa.model  - Loading model models/20231206-145213.tar.gz...\n",
    "2023-12-06 15:16:58 WARNING  rasa.shared.utils.common  - The UnexpecTED Intent Policy is currently experimental and might change or be removed in the future 🔬 Please share your feedback on it in the forum (https://forum.rasa.com) to help us make this feature ready for production.\n",
    "/home/sriparole/miniconda3/envs/env_rasa2.8/lib/python3.7/site-packages/rasa/shared/utils/io.py:97: UserWarning: the value of 'evaluate_every_number_of_epochs' is greater than the value of 'epochs'. No evaluation will occur.\n",
    "2023-12-06 15:17:04 INFO     rasa.shared.utils.validation  - The 'version' key is missing in the training data file /home/sriparole/Documents/TP_RASA_ManonAugeCouffin/CHATBOT_V1/tests/test_stories.yml. Rasa Open Source will read the file as a version '2.0' file. See https://rasa.com/docs/rasa/training-data-format.\n",
    "Processed story blocks: 100%|████████████| 7/7 [00:00<00:00, 2356.54it/s, # trackers=1]\n",
    "2023-12-06 15:17:04 INFO     rasa.core.test  - Evaluating 7 stories\n",
    "Progress:\n",
    "100%|████████████████████████████████████████████████████| 7/7 [00:00<00:00,  9.00it/s]\n",
    "2023-12-06 15:17:05 INFO     rasa.core.test  - Finished collecting predictions.\n",
    "2023-12-06 15:17:05 INFO     rasa.core.test  - Evaluation Results on END-TO-END level:\n",
    "2023-12-06 15:17:05 INFO     rasa.core.test  - \tCorrect:          7 / 7\n",
    "2023-12-06 15:17:05 INFO     rasa.core.test  - \tAccuracy:         1.000\n",
    "2023-12-06 15:17:05 INFO     rasa.core.test  - Stories report saved to results/story_report.json.\n",
    "2023-12-06 15:17:05 INFO     rasa.nlu.test  - Evaluation for entity extractor: TEDPolicy \n",
    "2023-12-06 15:17:05 WARNING  rasa.model_testing  - No labels to evaluate. Skip evaluation.\n",
    "2023-12-06 15:17:05 INFO     rasa.nlu.test  - Classification report saved to results/TEDPolicy_report.json.\n",
    "2023-12-06 15:17:05 INFO     rasa.nlu.test  - Every entity was predicted correctly by the model.\n",
    "/home/sriparole/miniconda3/envs/env_rasa2.8/lib/python3.7/site-packages/rasa/utils/plotting.py:109: UserWarning: Attempting to set identical left == right == -0.5 results in singular transformations; automatically expanding.\n",
    "  norm=LogNorm(vmin=zmin, vmax=zmax),\n",
    "/home/sriparole/miniconda3/envs/env_rasa2.8/lib/python3.7/site-packages/rasa/utils/plotting.py:109: UserWarning: Attempting to set identical bottom == top == -0.5 results in singular transformations; automatically expanding.\n",
    "  norm=LogNorm(vmin=zmin, vmax=zmax),\n",
    "2023-12-06 15:17:06 INFO     rasa.utils.plotting  - Confusion matrix, without normalization: \n",
    "[]\n",
    "2023-12-06 15:17:08 INFO     rasa.core.test  - Evaluation Results on ACTION level:\n",
    "2023-12-06 15:17:08 INFO     rasa.core.test  - \tCorrect:          35 / 35\n",
    "2023-12-06 15:17:08 INFO     rasa.core.test  - \tF1-Score:         1.000\n",
    "2023-12-06 15:17:08 INFO     rasa.core.test  - \tPrecision:        1.000\n",
    "2023-12-06 15:17:08 INFO     rasa.core.test  - \tAccuracy:         1.000\n",
    "2023-12-06 15:17:08 INFO     rasa.core.test  - \tIn-data fraction: 1\n",
    "2023-12-06 15:17:08 INFO     rasa.utils.plotting  - Confusion matrix, without normalization: \n",
    "[[16  0  0  0  0  0  0]\n",
    " [ 0  3  0  0  0  0  0]\n",
    " [ 0  0  3  0  0  0  0]\n",
    " [ 0  0  0  4  0  0  0]\n",
    " [ 0  0  0  0  5  0  0]\n",
    " [ 0  0  0  0  0  3  0]\n",
    " [ 0  0  0  0  0  0  1]]\n",
    "Failed stories written to 'results/failed_test_stories.yml'\n",
    "Stories with prediction warnings written to 'results/stories_with_warnings.yml'\n",
    "2023-12-06 15:17:09 INFO     rasa.model  - Loading model models/20231206-145213.tar.gz...\n",
    "2023-12-06 15:17:14 INFO     rasa.nlu.test  - Running model for predictions:\n",
    "100%|█████████████████████████████████████████████████| 69/69 [00:00<00:00, 154.19it/s]\n",
    "2023-12-06 15:17:14 INFO     rasa.nlu.test  - Intent evaluation results:\n",
    "2023-12-06 15:17:14 INFO     rasa.nlu.test  - Intent Evaluation: Only considering those 69 examples that have a defined intent out of 69 examples.\n",
    "2023-12-06 15:17:14 INFO     rasa.nlu.test  - Classification report saved to results/intent_report.json.\n",
    "2023-12-06 15:17:14 INFO     rasa.nlu.test  - Incorrect intent predictions saved to results/intent_errors.json.\n",
    "2023-12-06 15:17:14 INFO     rasa.utils.plotting  - Confusion matrix, without normalization: \n",
    "[[ 6  0  0  0  0  0  0]\n",
    " [ 0  4  0  0  0  0  0]\n",
    " [ 0  0  7  0  0  0  0]\n",
    " [ 0  0  0 10  1  0  0]\n",
    " [ 0  0  0  0 13  0  0]\n",
    " [ 0  0  0  0  0 14  0]\n",
    " [ 0  0  0  0  0  0 14]]\n",
    "-----------------------------------------------------------------------------"
   ]
  },
  {
   "cell_type": "markdown",
   "metadata": {},
   "source": [
    "**1) Comment interprétez vous cette trace ?**\n",
    "\n",
    "La trace nous montre ce qui est attendu par le systeme est ce qui est vraiment reconnu. Il en sort deux matrices : La matrice de confusions des actions et celle des intents.\n",
    "\n",
    "**2) Quels liens pouvez-vous faire avec le contenu du fichier de test ?**\n",
    "\n",
    "On test dans ce fichier des intents ainsi que des actions. Ce sont ces dernieres qui permettent d'obte,nir ces résultats.\n",
    "\n",
    "**3) Quelles sont les différentes étapes du test ?**\n",
    "\n",
    "Dans un premier temps, le système teste les 7 stories. Après il vient verifier les resultats obtenus, d'abord pour les actions puis pour les intents."
   ]
  },
  {
   "cell_type": "markdown",
   "metadata": {},
   "source": [
    "#### 6.3- Analyse des résultats d'évaluation\n",
    "Consultez le répertoire ./results\n",
    "##### 6.3.1- Evaluation des Intents - A\n",
    "Ouvrir les fichiers intent_confusion_matrix.png et intent_histogram.png"
   ]
  },
  {
   "cell_type": "markdown",
   "metadata": {},
   "source": [
    "<img src=\"intent_confusion_matrix.png\" style=\"height:600px\"/>"
   ]
  },
  {
   "cell_type": "markdown",
   "metadata": {},
   "source": [
    "<img src=\"intent_histogram.png\" style=\"height:600px\"/>"
   ]
  },
  {
   "cell_type": "markdown",
   "metadata": {},
   "source": [
    "**A quoi correspond ces images ?**\n",
    "\n",
    "La premiere image est une representation de la matrice de confusin des intentions. La seconde est son histogramme. Comme on peut le voir il y a seulement une erreur."
   ]
  },
  {
   "cell_type": "markdown",
   "metadata": {},
   "source": [
    "##### 6.3.2- Evaluation des Intents - B\n",
    "Etudier le contenu des fichiers intent_errors.json et intent_report.json"
   ]
  },
  {
   "cell_type": "raw",
   "metadata": {},
   "source": [
    "-------------------------------------------------\n",
    "intent_errors.json\n",
    "-------------------------------------------------\n",
    "\n",
    "[\n",
    "  {\n",
    "    \"text\": \"good afternoon\",\n",
    "    \"intent\": \"goodbye\",\n",
    "    \"intent_prediction\": {\n",
    "      \"name\": \"greet\",\n",
    "      \"confidence\": 0.9030025601387024\n",
    "    }\n",
    "  }\n",
    "]\n",
    "\n",
    "-------------------------------------------------\n",
    "intent_report.json\n",
    "-------------------------------------------------\n",
    "\n",
    "{\n",
    "  \"mood_great\": {\n",
    "    \"precision\": 1.0,\n",
    "    \"recall\": 1.0,\n",
    "    \"f1-score\": 1.0,\n",
    "    \"support\": 14,\n",
    "    \"confused_with\": {}\n",
    "  },\n",
    "  \"goodbye\": {\n",
    "    \"precision\": 1.0,\n",
    "    \"recall\": 0.9090909090909091,\n",
    "    \"f1-score\": 0.9523809523809523,\n",
    "    \"support\": 11,\n",
    "    \"confused_with\": {\n",
    "      \"greet\": 1\n",
    "    }\n",
    "  },\n",
    "  \"bot_challenge\": {\n",
    "    \"precision\": 1.0,\n",
    "    \"recall\": 1.0,\n",
    "    \"f1-score\": 1.0,\n",
    "    \"support\": 4,\n",
    "    \"confused_with\": {}\n",
    "  },\n",
    "  \"greet\": {\n",
    "    \"precision\": 0.9285714285714286,\n",
    "    \"recall\": 1.0,\n",
    "    \"f1-score\": 0.962962962962963,\n",
    "    \"support\": 13,\n",
    "    \"confused_with\": {}\n",
    "  },\n",
    "  \"affirm\": {\n",
    "    \"precision\": 1.0,\n",
    "    \"recall\": 1.0,\n",
    "    \"f1-score\": 1.0,\n",
    "    \"support\": 6,\n",
    "    \"confused_with\": {}\n",
    "  },\n",
    "  \"deny\": {\n",
    "    \"precision\": 1.0,\n",
    "    \"recall\": 1.0,\n",
    "    \"f1-score\": 1.0,\n",
    "    \"support\": 7,\n",
    "    \"confused_with\": {}\n",
    "  },\n",
    "  \"mood_unhappy\": {\n",
    "    \"precision\": 1.0,\n",
    "    \"recall\": 1.0,\n",
    "    \"f1-score\": 1.0,\n",
    "    \"support\": 14,\n",
    "    \"confused_with\": {}\n",
    "  },\n",
    "  \"accuracy\": 0.9855072463768116,\n",
    "  \"macro avg\": {\n",
    "    \"precision\": 0.9897959183673469,\n",
    "    \"recall\": 0.987012987012987,\n",
    "    \"f1-score\": 0.9879062736205594,\n",
    "    \"support\": 69\n",
    "  },\n",
    "  \"weighted avg\": {\n",
    "    \"precision\": 0.9865424430641822,\n",
    "    \"recall\": 0.9855072463768116,\n",
    "    \"f1-score\": 0.9854305651407099,\n",
    "    \"support\": 69\n",
    "  }\n",
    "}\n",
    "-------------------------------------------------"
   ]
  },
  {
   "cell_type": "markdown",
   "metadata": {},
   "source": [
    "Vous pouvez consulter internet pour comprendre le rôle des métriques utilisées en complément du cours 4 EVALUATION, par exemple : \n",
    "https://towardsdatascience.com/multi-class-metrics-made-simple-part-ii-the-f1-score-ebe8b2c2ca1\n",
    "\n",
    "**A quoi correspondent-il ? Quelle informations peut-on en déduire ?**\n",
    "\n",
    "L'erreur qu'il y a eu est que le chatbot a confondu la signification d'un \"good afternoon\". Pour lui c'était un goodbye alors que normalment c'était un greet.\n",
    "\n",
    "##### 6.3.3- Evaluation des stories -A"
   ]
  },
  {
   "cell_type": "raw",
   "metadata": {},
   "source": [
    "-------------------------------------------------\n",
    "# None of the test stories failed - all good!\n",
    "\n",
    "-------------------------------------------------"
   ]
  },
  {
   "cell_type": "markdown",
   "metadata": {},
   "source": [
    "**Que concluez-vous ?**\n",
    "\n",
    "Tous les tests on été concluant.\n",
    "##### 6.3.4- Evaluation des stories -B\n",
    "Etudier le contenu du fichier storiy_report.json "
   ]
  },
  {
   "cell_type": "raw",
   "metadata": {},
   "source": [
    "-------------------------------------------------\n",
    "{\n",
    "  \"utter_greet\": {\n",
    "    \"precision\": 1.0,\n",
    "    \"recall\": 1.0,\n",
    "    \"f1-score\": 1.0,\n",
    "    \"support\": 5\n",
    "  },\n",
    "  \"action_listen\": {\n",
    "    \"precision\": 1.0,\n",
    "    \"recall\": 1.0,\n",
    "    \"f1-score\": 1.0,\n",
    "    \"support\": 16\n",
    "  },\n",
    "  \"utter_iamabot\": {\n",
    "    \"precision\": 1.0,\n",
    "    \"recall\": 1.0,\n",
    "    \"f1-score\": 1.0,\n",
    "    \"support\": 1\n",
    "  },\n",
    "  \"mood_great\": {\n",
    "    \"precision\": 1.0,\n",
    "    \"recall\": 1.0,\n",
    "    \"f1-score\": 1.0,\n",
    "    \"support\": 2\n",
    "  },\n",
    "  \"goodbye\": {\n",
    "    \"precision\": 1.0,\n",
    "    \"recall\": 1.0,\n",
    "    \"f1-score\": 1.0,\n",
    "    \"support\": 2\n",
    "  },\n",
    "  \"bot_challenge\": {\n",
    "    \"precision\": 1.0,\n",
    "    \"recall\": 1.0,\n",
    "    \"f1-score\": 1.0,\n",
    "    \"support\": 1\n",
    "  },\n",
    "  \"utter_goodbye\": {\n",
    "    \"precision\": 1.0,\n",
    "    \"recall\": 1.0,\n",
    "    \"f1-score\": 1.0,\n",
    "    \"support\": 4\n",
    "  },\n",
    "  \"greet\": {\n",
    "    \"precision\": 1.0,\n",
    "    \"recall\": 1.0,\n",
    "    \"f1-score\": 1.0,\n",
    "    \"support\": 5\n",
    "  },\n",
    "  \"utter_cheer_up\": {\n",
    "    \"precision\": 1.0,\n",
    "    \"recall\": 1.0,\n",
    "    \"f1-score\": 1.0,\n",
    "    \"support\": 3\n",
    "  },\n",
    "  \"affirm\": {\n",
    "    \"precision\": 1.0,\n",
    "    \"recall\": 1.0,\n",
    "    \"f1-score\": 1.0,\n",
    "    \"support\": 1\n",
    "  },\n",
    "  \"deny\": {\n",
    "    \"precision\": 1.0,\n",
    "    \"recall\": 1.0,\n",
    "    \"f1-score\": 1.0,\n",
    "    \"support\": 2\n",
    "  },\n",
    "  \"mood_unhappy\": {\n",
    "    \"precision\": 1.0,\n",
    "    \"recall\": 1.0,\n",
    "    \"f1-score\": 1.0,\n",
    "    \"support\": 3\n",
    "  },\n",
    "  \"utter_did_that_help\": {\n",
    "    \"precision\": 1.0,\n",
    "    \"recall\": 1.0,\n",
    "    \"f1-score\": 1.0,\n",
    "    \"support\": 3\n",
    "  },\n",
    "  \"utter_happy\": {\n",
    "    \"precision\": 1.0,\n",
    "    \"recall\": 1.0,\n",
    "    \"f1-score\": 1.0,\n",
    "    \"support\": 3\n",
    "  },\n",
    "  \"accuracy\": 1.0,\n",
    "  \"macro avg\": {\n",
    "    \"precision\": 1.0,\n",
    "    \"recall\": 1.0,\n",
    "    \"f1-score\": 1.0,\n",
    "    \"support\": 51\n",
    "  },\n",
    "  \"weighted avg\": {\n",
    "    \"precision\": 1.0,\n",
    "    \"recall\": 1.0,\n",
    "    \"f1-score\": 1.0,\n",
    "    \"support\": 51\n",
    "  },\n",
    "  \"conversation_accuracy\": {\n",
    "    \"accuracy\": 1.0,\n",
    "    \"correct\": 7,\n",
    "    \"with_warnings\": 0,\n",
    "    \"total\": 7\n",
    "  }\n",
    "}\n",
    "-------------------------------------------------"
   ]
  },
  {
   "cell_type": "markdown",
   "metadata": {},
   "source": [
    "**A quoi correspond-il ce fichier ?**\n",
    "\n",
    "Il verifit la bonne execution de chacune des actions lors du test.\n",
    "##### 6.3.5- Evaluation des Intents - C\n",
    "Ouvrir le fichier story_confusion_matrix.png "
   ]
  },
  {
   "cell_type": "markdown",
   "metadata": {},
   "source": [
    "<img src=\"story_confusion_matrix.png\" style=\"height:600px\"/> "
   ]
  },
  {
   "cell_type": "markdown",
   "metadata": {},
   "source": [
    "**A quoi correspond cette image ?**\n",
    "\n",
    "Cette image est une representation de la matrice de confusin des actions. Comme on peut le voir il n'y a pas d'erreur."
   ]
  },
  {
   "cell_type": "markdown",
   "metadata": {},
   "source": [
    "## PARTIE 3 : DEVELOPPEMENT DU CHATBOT\n",
    "### 7- Lancement du chatbot en mode commande\n",
    "#### 7.1- Depuis le répertoire où se trouve le code du chatbot, lancer la commande : rasa shell \n",
    "Vous avez le prompt suivant : \n",
    "\n",
    "Bot loaded. Type a message and press enter (use ‘/stop’ to exit) :\n",
    "\n",
    "Your input --> … \n",
    "#### 7.2- Essayer différents cas, copier-coller plusieurs exemples (pertinents) de dialogue et commentez leur déroulement. \n",
    "Ajoutez autant de cellule que d'exemples. Appuyez-vous sur ce que vous avez retenu des questions précédentes. L’objectif est de tester les capacités de ce mini-chatbot et de comprendre ce qui se passe. "
   ]
  },
  {
   "cell_type": "raw",
   "metadata": {},
   "source": [
    "Your input ->  i gonna kill myself  \n",
    "Here is something to cheer you up:\n",
    "Image: https://i.imgur.com/nGF1K8f.jpg\n",
    "Did that help you?\n",
    "Your input ->  not really          \n",
    "Bye"
   ]
  },
  {
   "cell_type": "markdown",
   "metadata": {},
   "source": [
    "Dans cette converssation on peut voir que même si il ne connait pas l'expression il comprend que l'on va mal."
   ]
  },
  {
   "cell_type": "raw",
   "metadata": {},
   "source": [
    "Your input ->  good afternoon      \n",
    "Hey! How are you?\n",
    "Your input ->  and you ?              \n",
    "Bye"
   ]
  },
  {
   "cell_type": "markdown",
   "metadata": {},
   "source": [
    "Ce test nous permet de comprendre que si il ne comprend pas il joge pour voir si on va bien ou mal. Dans ce cas le bot ne voit pas de synonyme de sad donc il finit le dialogue comme un happy mood."
   ]
  },
  {
   "cell_type": "markdown",
   "metadata": {},
   "source": [
    "### 8- Lancement du chatbot en mode interactif\n",
    "#### 8.1- Depuis le répertoire où se trouve le code du chatbot, lancer la commande : rasa x \n",
    "Ouverture du navigateur et de l’application interactive permettant d’enrichir le chatbot.\n",
    "Sélectionner l’onglet en haut à gauche : Talk to your bot (Interactive Learning), assurez-vous qu'un modèle a été sélectionné et tapez votre texte dans la zone du bas : \"Start typing a message\"\n",
    "#### 8.2- Essayer différents cas de dialogue (similaires à ceux de la question précédente)\n",
    "Copier-coller la partie story associée dans les zones de texte, une zone par story. \n",
    "Ajouter des cellules au besoin.\n",
    "\n",
    "Story 1 :"
   ]
  },
  {
   "cell_type": "raw",
   "metadata": {},
   "source": [
    "version: \"2.0\"\n",
    "stories:\n",
    "- story: Story from Conversation ID 81f2d478c5644be3b5611d37c271103e\n",
    "  steps:\n",
    "  - intent: greet\n",
    "  - action: utter_greet\n",
    "  - intent: deny\n",
    "  - action: utter_goodbye"
   ]
  },
  {
   "cell_type": "markdown",
   "metadata": {},
   "source": [
    "C'est une conversation qui se deroule avec quelqu'un qui va bien.\n",
    "\n",
    "Story 2 :"
   ]
  },
  {
   "cell_type": "raw",
   "metadata": {},
   "source": [
    "version: \"2.0\"\n",
    "stories:\n",
    "- story: Story from Conversation ID efc512705e584383a5a9aa5ea0b66f3a\n",
    "  steps:\n",
    "  - intent: greet\n",
    "  - action: utter_greet\n",
    "  - intent: mood_unhappy\n",
    "  - action: utter_cheer_up\n",
    "  - action: utter_did_that_help\n",
    "  - intent: mood_great\n",
    "  - action: utter_happy"
   ]
  },
  {
   "cell_type": "markdown",
   "metadata": {},
   "source": [
    "Cette conversation se deroule avec quelqu'un qui va mal et qui va mieux après avoi reçu l'image du bot."
   ]
  },
  {
   "cell_type": "markdown",
   "metadata": {},
   "source": [
    "## PARTIE 4 : EVOLUTION DU CHATBOT\n",
    "### 9- Ajout de nouvelles INTENTS\n",
    "\n",
    "##### 9.1- Essayer à nouveau un dialogue : \n",
    "- en répondant 'Good', 'Fine thanks', 'not well'\n",
    "- en ajoutant, à la fin, des énoncés utilisateurs du type  'Thanks' / 'Thank you' / 'Many thanks'\n",
    "\n",
    "**Que se passe-t-il du point de vue \"intent\" ?**\n",
    "\n",
    "Le système ne reconnait pas le remercimmant. \n",
    "\n",
    "**Copier-Coller ci-après les \"story\" correspondantes et commenter. Que suggérez-vous de faire pour améliorer ?**\n",
    "\n",
    "Il faudrait modifier les stories et les intents pour qu'il puisse comprendre le remercimmant.\n",
    "\n",
    "Story 1 :"
   ]
  },
  {
   "cell_type": "raw",
   "metadata": {},
   "source": [
    "version: \"2.0\"\n",
    "stories:\n",
    "- story: Story from Conversation ID 6ed461528952400eb10709dc0246b665\n",
    "  steps:\n",
    "  - intent: greet\n",
    "  - action: utter_greet\n",
    "  - intent: deny\n",
    "  - action: utter_goodbye"
   ]
  },
  {
   "cell_type": "markdown",
   "metadata": {},
   "source": [
    "Dans ce dialogue je suis un un great mood. Je lui dis aller bien et le remercie. Comme on peut le voir ma deuxième interaction avec lui n'est pas comprise. On voit cela a la valeur de l'intent.\n",
    "\n",
    "Story 2 :"
   ]
  },
  {
   "cell_type": "raw",
   "metadata": {},
   "source": [
    "version: \"2.0\"\n",
    "stories:\n",
    "- story: Story from Conversation ID 3cfc140c307d465d9d3171b1f960bb8c\n",
    "  steps:\n",
    "  - intent: greet\n",
    "  - action: utter_greet\n",
    "  - intent: mood_unhappy\n",
    "  - action: utter_cheer_up\n",
    "  - action: utter_did_that_help\n",
    "  - intent: affirm\n",
    "  - action: utter_happy\n",
    "  - intent: deny\n",
    "  - action: utter_goodbye"
   ]
  },
  {
   "cell_type": "markdown",
   "metadata": {},
   "source": [
    "Ici, je suis dans un mauvais mood avec un fin heureuse. Je le remercie à la fin et à nouveau il ne comprend pas.\n",
    "\n",
    "#### 9.2- Explorer les possibilités de rasa-x pour ajouter :\n",
    "- une nouvelle intent 'thank_you',\n",
    "- une réponse 'utter_welcome' et au moins deux réponses possibles : \n",
    "    'you are welcome', 'you are very welcome'... \n",
    "- une règle prévoyant ce type d’échange à la fin de la conversation : \n",
    "    User : 'thank you' / 'thanks' / 'many thanks' \n",
    "    Chatbot : 'you are welcome' / 'you are very welcome' \n",
    "    \n",
    "**Copier-coller ici une story obtenue après nouveau dialogue intégrant les remerciements \n",
    "et expliquer quelles seront selon vous les étapes d'améliorations suivantes.**"
   ]
  },
  {
   "cell_type": "raw",
   "metadata": {},
   "source": [
    "version: \"2.0\"\n",
    "stories:\n",
    "- story: Story from Conversation ID 2fecbac2f0b04d1e94e84ef3a430e535\n",
    "  steps:\n",
    "  - intent: greet\n",
    "  - action: utter_greet\n",
    "  - intent: mood_unhappy\n",
    "  - action: utter_cheer_up\n",
    "  - action: utter_did_that_help\n",
    "  - intent: affirm\n",
    "  - action: utter_happy\n",
    "  - intent: deny\n",
    "  - action: utter_goodbye\n",
    "  - intent: goodbye\n",
    "  - action: utter_goodbye"
   ]
  },
  {
   "cell_type": "markdown",
   "metadata": {},
   "source": [
    "Cela n'a rien changé. Il faut entrainer le modèle sinon il n'y a aucun changement.\n",
    "\n",
    "#### 9.3 - Est-ce que ces nouvelles informations ont bien été intégrées dans le déroulement des dialogues exécutés par la suite ?\n",
    "Non elles n'ont pas été pris en compte.\n",
    "\n",
    "**Quelles sont les 'intents' associées à l'énoncé 'Thank you' ? Commentez ci-dessous. Selon vous, comment peut-on améliorer la situation ?**\n",
    "\n",
    "Dans le dialogue, il est toujours relié à 'deny'. Il faut entrainer le modèle pour qu'il prenne en compte le nouvel intent.\n",
    "\n",
    "### 10- Apprentissage et génération d’un nouveau modèle \n",
    "\n",
    "#### 10.1- Explorer les fonctionnalités associées à la rubrique Training. Que constatez-vous ? \n",
    "Dans l'onglet Trainning, on peut ajouter des intents à l'interieur de domain.yml. On peut aussi acceder au data NLU, changer les règles, voir les réponses du système et avoir acces au anciennes stories. On peut aussi lancer l'apprentissage du système.\n",
    "\n",
    "#### 10.2- Après avoir fait le nécessaire dans chaque rubrique (NLU Training, Responses, Stories, Configuration, Domain, ...) procéder à l’apprentissage via l'interface \n",
    "**Que se passe-t-il si vous allez voir dans la rubrique Models ?** \n",
    "\n",
    "J'ai obtnu un nouveau modèle datant d'aujourd'hui.\n",
    "\n",
    "#### 10.3- Sélectionner le bon modèle et recommencer les tests. Que constatez-vous ? Illustrer et commenter : "
   ]
  },
  {
   "cell_type": "raw",
   "metadata": {},
   "source": [
    "version: \"2.0\"\n",
    "stories:\n",
    "- story: Story from Conversation ID 5fe898e8b6f644dd93acb6631b8c4a22\n",
    "  steps:\n",
    "  - intent: greet\n",
    "  - action: utter_greet\n",
    "  - intent: mood_unhappy\n",
    "  - action: utter_cheer_up\n",
    "  - action: utter_did_that_help\n",
    "  - intent: thank_you\n",
    "  - action: utter_welcome\n",
    "  - intent: goodbye\n",
    "  - action: utter_goodbye"
   ]
  },
  {
   "cell_type": "markdown",
   "metadata": {},
   "source": [
    "Il connait à présent le remerciment."
   ]
  },
  {
   "cell_type": "markdown",
   "metadata": {},
   "source": [
    "### 11- Impact sur les données du chatbot\n",
    "\n",
    "Examiner le fichier \n",
    "- data/nlu.yml\n",
    "- data/stories.yml\n",
    "- data/rules.yml\n",
    "- domain.yml \n",
    "\n",
    "**Que constatez vous dans chacun des cas ? Commentez.**\n",
    "\n",
    "Dans le fichier  :\n",
    "- nlu.yml : il y a le nouvel intent 'thank_you'\n",
    "- stories.yml : il n'y a pas de changement\n",
    "- rules.yml : il y a la nouvelle règle de remerciment\n",
    "- domain.yml : la nouvelle action 'utter_welcome' est implementé"
   ]
  },
  {
   "cell_type": "markdown",
   "metadata": {},
   "source": [
    "## PARTIE 5 : COMPREHENSION ou NLU - \n",
    "#### COMMENT CA MARCHE ? \n",
    "### 12- Utilisation de SpaCy et des modèles de langage\n",
    "\n",
    "Les opérations suivantes ont été faites dans l'environnement virtuel env_rasa2.8"
   ]
  },
  {
   "cell_type": "raw",
   "metadata": {},
   "source": [
    "## installation de la libririe SpaCy pour les traitement NLU et modèles de langage\n",
    "# pip3 --use-feature=2020-resolver install rasa[spacy]\n",
    "\n",
    "## téléchargement du modèle d'embedding anglais : https://spacy.io/models/en\n",
    "# python3 -m spacy download en_core_web_md\n",
    "\n",
    "\n",
    "## téléchargement du modèle d'embedding anglais : https://spacy.io/models/fr\n",
    "# python3 -m spacy download fr_core_news_md\n"
   ]
  },
  {
   "cell_type": "markdown",
   "metadata": {},
   "source": [
    "### 13- Consultez les site web restectif et expliquer ci-dessous quelles sont les principales carcatéristiques de ces modèles"
   ]
  },
  {
   "cell_type": "raw",
   "metadata": {},
   "source": [
    "en_core_web_md \n",
    " - Language : enEnglish\n",
    " - Type : Vocabulary, syntax, entities, vectors\n",
    " - Genre : written text (blogs, news, comments)\n",
    " - Size : 40 MB\n",
    "\n",
    "fr_core_news_md\n",
    " - Language : frFrench\n",
    " - Type : Vocabulary, syntax, entities, vectors\n",
    " - Genre : written text (news, media)\n",
    " - Size : 43 MB"
   ]
  },
  {
   "cell_type": "markdown",
   "metadata": {},
   "source": [
    "### 14- Exécuter la séquence python suivante. \n",
    "pprint permettra un affichage indenté du résultat de la partie compréhension (NLU)"
   ]
  },
  {
   "cell_type": "code",
   "execution_count": 1,
   "metadata": {},
   "outputs": [],
   "source": [
    "%matplotlib inline\n",
    "import logging, io, json, warnings\n",
    "logging.basicConfig(level=\"INFO\")\n",
    "warnings.filterwarnings('ignore')\n",
    "\n",
    "def pprint(o):\n",
    "    # small helper to make dict dumps a bit prettier\n",
    "    print(json.dumps(o, indent=2))"
   ]
  },
  {
   "cell_type": "code",
   "execution_count": 2,
   "metadata": {},
   "outputs": [
    {
     "data": {
      "text/plain": [
       "['rasa.db',\n",
       " 'tests',\n",
       " 'domain.yml',\n",
       " 'data',\n",
       " 'events.db-wal',\n",
       " 'endpoints.yml',\n",
       " 'models',\n",
       " 'events.db-shm',\n",
       " 'config.yml',\n",
       " 'events.db',\n",
       " 'credentials.yml',\n",
       " 'actions',\n",
       " 'results']"
      ]
     },
     "execution_count": 2,
     "metadata": {},
     "output_type": "execute_result"
    }
   ],
   "source": [
    "# Positionnez-vous dans le bon répertoire à l'aide du code python suivant\n",
    "import os\n",
    "\n",
    "PATH = '/home/sriparole/Documents/TP_RASA_ManonAugeCouffin/CHATBOT_V1'\n",
    "os.chdir(PATH)\n",
    "os.listdir()"
   ]
  },
  {
   "cell_type": "markdown",
   "metadata": {},
   "source": [
    "### 15- Exécuter la séquence python suivante.\n",
    "BIEN VERIFIER QUE VOUS AVEZ LANCE JUPYTER NOTEBOOK DEPUIS L'ENVIRONNEMENT VIRTUEL OU RASA EST INSTALLE (env_rasa2.8)\n",
    "\n",
    "Les modèles chargés peuvent être utilisés pour traiter les énoncés des utilisateurs "
   ]
  },
  {
   "cell_type": "code",
   "execution_count": 3,
   "metadata": {
    "scrolled": true
   },
   "outputs": [
    {
     "name": "stderr",
     "output_type": "stream",
     "text": [
      "2023-12-19 10:31:37.344287: W tensorflow/stream_executor/platform/default/dso_loader.cc:59] Could not load dynamic library 'libcudart.so.10.1'; dlerror: libcudart.so.10.1: cannot open shared object file: No such file or directory\n",
      "2023-12-19 10:31:37.344319: I tensorflow/stream_executor/cuda/cudart_stub.cc:29] Ignore above cudart dlerror if you do not have a GPU set up on your machine.\n",
      "2023-12-19 10:31:38.120200: W tensorflow/stream_executor/platform/default/dso_loader.cc:59] Could not load dynamic library 'libcuda.so.1'; dlerror: libcuda.so.1: cannot open shared object file: No such file or directory\n",
      "2023-12-19 10:31:38.120236: W tensorflow/stream_executor/cuda/cuda_driver.cc:312] failed call to cuInit: UNKNOWN ERROR (303)\n",
      "2023-12-19 10:31:38.120254: I tensorflow/stream_executor/cuda/cuda_diagnostics.cc:156] kernel driver does not appear to be running on this host (sriparole-virtual-machine): /proc/driver/nvidia/version does not exist\n"
     ]
    },
    {
     "name": "stdout",
     "output_type": "stream",
     "text": [
      "rasa.nlu: 2.8.0 rasa.core: 2.8.0\n",
      "Loading spaCy language model...\n",
      "Bonjour chez vous! Le modèle français est chargé\n",
      "Hello world! The English model has ben loaded\n"
     ]
    }
   ],
   "source": [
    "import rasa.nlu\n",
    "import rasa.core\n",
    "import spacy\n",
    "\n",
    "print(\"rasa.nlu: {} rasa.core: {}\".format(rasa.nlu.__version__, rasa.core.__version__))\n",
    "print(\"Loading spaCy language model...\")\n",
    "#print(spacy.load('fr')(\"Bonjour chez vous! Le modèle français est chargé\"))  # si le lien existe\n",
    "print(spacy.load('fr_core_news_md')(\"Bonjour chez vous! Le modèle français est chargé\"))  \n",
    "#print(spacy.load('en')(\"Hello world! The English model has been loaded\"))    # si le lien existe\n",
    "print(spacy.load('en_core_web_md')(\"Hello world! The English model has ben loaded\"))"
   ]
  },
  {
   "cell_type": "markdown",
   "metadata": {},
   "source": [
    "### 16- Exécuter la séquence python suivante.\n",
    "BIEN VERIFIER QUE VOUS AVEZ LANCE JUPYTER NOTEBOOK DEPUIS L'ENVIRONNEMENT VIRTUEL OU RASA EST INSTALLE (env_rasa2.8)\n",
    "\n",
    "La partie nlu peut être utilisée dans du code python pour développer ses propres applications. \n",
    "Exécuter le code suivant. Il faut construire un interpréteur qui correspond à la partie pipeline"
   ]
  },
  {
   "cell_type": "code",
   "execution_count": 4,
   "metadata": {},
   "outputs": [
    {
     "name": "stdout",
     "output_type": "stream",
     "text": [
      "/home/sriparole/Documents/TP_RASA_ManonAugeCouffin/CHATBOT_V1\n",
      "['nlu.yml', 'stories.yml', 'rules.yml']\n"
     ]
    },
    {
     "name": "stderr",
     "output_type": "stream",
     "text": [
      "INFO:rasa.nlu.model:Starting to train component WhitespaceTokenizer\n",
      "INFO:rasa.nlu.model:Finished training component.\n",
      "INFO:rasa.nlu.model:Starting to train component RegexFeaturizer\n",
      "INFO:rasa.nlu.model:Finished training component.\n",
      "INFO:rasa.nlu.model:Starting to train component LexicalSyntacticFeaturizer\n",
      "INFO:rasa.nlu.model:Finished training component.\n",
      "INFO:rasa.nlu.model:Starting to train component CountVectorsFeaturizer\n",
      "INFO:rasa.nlu.featurizers.sparse_featurizer.count_vectors_featurizer:83 vocabulary items were created for text attribute.\n",
      "INFO:rasa.nlu.model:Finished training component.\n",
      "INFO:rasa.nlu.model:Starting to train component CountVectorsFeaturizer\n",
      "INFO:rasa.nlu.featurizers.sparse_featurizer.count_vectors_featurizer:714 vocabulary items were created for text attribute.\n",
      "INFO:rasa.nlu.model:Finished training component.\n",
      "INFO:rasa.nlu.model:Starting to train component DIETClassifier\n",
      "2023-12-19 10:31:44.103744: I tensorflow/core/platform/cpu_feature_guard.cc:142] This TensorFlow binary is optimized with oneAPI Deep Neural Network Library (oneDNN)to use the following CPU instructions in performance-critical operations:  AVX2 FMA\n",
      "To enable them in other operations, rebuild TensorFlow with the appropriate compiler flags.\n",
      "2023-12-19 10:31:44.107600: I tensorflow/core/platform/profile_utils/cpu_utils.cc:104] CPU Frequency: 3696000000 Hz\n",
      "2023-12-19 10:31:44.107860: I tensorflow/compiler/xla/service/service.cc:168] XLA service 0xc27ea0 initialized for platform Host (this does not guarantee that XLA will be used). Devices:\n",
      "2023-12-19 10:31:44.107874: I tensorflow/compiler/xla/service/service.cc:176]   StreamExecutor device (0): Host, Default Version\n",
      "Epochs: 100%|██████████████| 100/100 [00:14<00:00,  7.08it/s, t_loss=1.29, i_acc=0.986]\n",
      "INFO:rasa.nlu.model:Finished training component.\n",
      "INFO:rasa.nlu.model:Starting to train component EntitySynonymMapper\n",
      "INFO:rasa.nlu.model:Finished training component.\n",
      "INFO:rasa.nlu.model:Starting to train component ResponseSelector\n",
      "INFO:rasa.nlu.selectors.response_selector:Retrieval intent parameter was left to its default value. This response selector will be trained on training examples combining all retrieval intents.\n",
      "INFO:rasa.nlu.model:Finished training component.\n",
      "INFO:rasa.nlu.model:Starting to train component FallbackClassifier\n",
      "INFO:rasa.nlu.model:Finished training component.\n",
      "INFO:rasa.nlu.model:Successfully saved model into '/home/sriparole/Documents/TP_RASA_ManonAugeCouffin/CHATBOT_V1/models/nlu/current'\n"
     ]
    }
   ],
   "source": [
    "import os\n",
    "from rasa.shared.nlu.training_data.loading import load_data\n",
    "from rasa.nlu.config import RasaNLUModelConfig\n",
    "from rasa.nlu.model import Trainer\n",
    "from rasa.nlu import config\n",
    "from os import system\n",
    "\n",
    "# Adapter le chemin à votre contexte\n",
    "PATH = '/home/sriparole/Documents/TP_RASA_ManonAugeCouffin/CHATBOT_V1'\n",
    "os.chdir(PATH)\n",
    "os.listdir()\n",
    "#Compléter avec le chemin vers votre environnement virtuel créé lors du 1er TP\n",
    "print(os.getcwd())\n",
    "print(os.listdir('data'))\n",
    "warnings.filterwarnings('ignore')\n",
    "\n",
    "# loading the nlu training samples\n",
    "training_data = load_data(\"./data/nlu.yml\")\n",
    "\n",
    "# trainer to educate our pipeline \n",
    "# décommenter le pipeline si besoin\n",
    "trainer = Trainer(config.load(\"./config.yml\"))\n",
    "\n",
    "# train the model!\n",
    "interpreter = trainer.train(training_data)\n",
    "\n",
    "# store it for future use\n",
    "model_directory = trainer.persist(\"./models/nlu\", fixed_model_name=\"current\")"
   ]
  },
  {
   "cell_type": "markdown",
   "metadata": {},
   "source": [
    "### 17- Commenter la trace obtenue et aller voir ce qu'il y a sous models/nlu/current en exécutant le code suivant\n",
    "\n",
    "Le modèle a été entrainer à l'aide de la pipeline de configuration."
   ]
  },
  {
   "cell_type": "code",
   "execution_count": 5,
   "metadata": {},
   "outputs": [
    {
     "name": "stdout",
     "output_type": "stream",
     "text": [
      "/home/sriparole/Documents/TP_RASA_ManonAugeCouffin/CHATBOT_V1\n",
      "['metadata.json', 'component_5_DIETClassifier.tf_model.index', 'component_2_LexicalSyntacticFeaturizer.feature_to_idx_dict.pkl', 'checkpoint', 'component_5_DIETClassifier.entity_tag_specs.json', 'component_1_RegexFeaturizer.patterns.pkl', 'component_5_DIETClassifier.index_label_id_mapping.json', 'component_5_DIETClassifier.label_data.pkl', 'component_5_DIETClassifier.sparse_feature_sizes.pkl', 'component_5_DIETClassifier.tf_model.data-00000-of-00001', 'component_3_CountVectorsFeaturizer.pkl', 'component_5_DIETClassifier.data_example.pkl', 'component_4_CountVectorsFeaturizer.pkl']\n"
     ]
    }
   ],
   "source": [
    "#PATH = '/Users/ferrane/Documents/ENSEIGNEMENT/SRI-3A/DOHM/BE_2020/TP_RASA_2020/CHATBOTS/CHATBOT_INIT_RASA2'\n",
    "#os.chdir(PATH)\n",
    "#os.listdir()\n",
    "#Compléter avec le chemin vers votre environnement virtuel créé lors du 1er TP\n",
    "print(os.getcwd())\n",
    "print(os.listdir('models/nlu/current'))\n",
    "warnings.filterwarnings('ignore')"
   ]
  },
  {
   "cell_type": "markdown",
   "metadata": {},
   "source": [
    "### 18- Exécuter le code suivant en remplaçant la chaîne de caractères vide \"\" par la phrase à analyser représentant l'énoncé de l'utilisateur :  \n",
    "- I am fine thanks\n",
    "- Thank you \n",
    "- Thank you very much\n",
    "- I would like to thank you\n",
    "- I would rather prefer a puppy\n",
    "- I would rather have prefered a puppy\n",
    "- I would like to thank you very much for this\n",
    "\n",
    "Vous pouvez également proposer des phrases à traiter. \n",
    "\n",
    "ATTENTION : DUPLIQUER LA CELLULE A CHAQUE NOUVEL ESSAI POUR GARDER TRACE DES RESULTATS."
   ]
  },
  {
   "cell_type": "code",
   "execution_count": 6,
   "metadata": {},
   "outputs": [
    {
     "name": "stdout",
     "output_type": "stream",
     "text": [
      "{\n",
      "  \"text\": \"\",\n",
      "  \"intent\": {\n",
      "    \"name\": null,\n",
      "    \"confidence\": 0.0\n",
      "  },\n",
      "  \"entities\": []\n",
      "}\n"
     ]
    }
   ],
   "source": [
    "pprint(interpreter.parse(\"\"))"
   ]
  },
  {
   "cell_type": "code",
   "execution_count": 7,
   "metadata": {},
   "outputs": [
    {
     "name": "stdout",
     "output_type": "stream",
     "text": [
      "{\n",
      "  \"text\": \"I am fine thanks\",\n",
      "  \"intent\": {\n",
      "    \"id\": -2060081205132760995,\n",
      "    \"name\": \"thank_you\",\n",
      "    \"confidence\": 0.9645185470581055\n",
      "  },\n",
      "  \"entities\": [],\n",
      "  \"intent_ranking\": [\n",
      "    {\n",
      "      \"id\": -2060081205132760995,\n",
      "      \"name\": \"thank_you\",\n",
      "      \"confidence\": 0.9645185470581055\n",
      "    },\n",
      "    {\n",
      "      \"id\": 8801768551522549680,\n",
      "      \"name\": \"mood_great\",\n",
      "      \"confidence\": 0.027468634769320488\n",
      "    },\n",
      "    {\n",
      "      \"id\": -3637056081654315957,\n",
      "      \"name\": \"bot_challenge\",\n",
      "      \"confidence\": 0.005325043108314276\n",
      "    },\n",
      "    {\n",
      "      \"id\": -3767365156534728919,\n",
      "      \"name\": \"deny\",\n",
      "      \"confidence\": 0.0020486831199377775\n",
      "    },\n",
      "    {\n",
      "      \"id\": 8266924324776116934,\n",
      "      \"name\": \"goodbye\",\n",
      "      \"confidence\": 0.0002914549841079861\n",
      "    },\n",
      "    {\n",
      "      \"id\": -8492416158431785154,\n",
      "      \"name\": \"affirm\",\n",
      "      \"confidence\": 0.00020847430278081447\n",
      "    },\n",
      "    {\n",
      "      \"id\": -6651140628253025356,\n",
      "      \"name\": \"greet\",\n",
      "      \"confidence\": 0.00011868860019603744\n",
      "    },\n",
      "    {\n",
      "      \"id\": -7863660608552312342,\n",
      "      \"name\": \"mood_unhappy\",\n",
      "      \"confidence\": 2.035895704466384e-05\n",
      "    }\n",
      "  ],\n",
      "  \"response_selector\": {\n",
      "    \"all_retrieval_intents\": [],\n",
      "    \"default\": {\n",
      "      \"response\": {\n",
      "        \"id\": null,\n",
      "        \"responses\": null,\n",
      "        \"response_templates\": null,\n",
      "        \"confidence\": 0.0,\n",
      "        \"intent_response_key\": null,\n",
      "        \"utter_action\": \"utter_None\",\n",
      "        \"template_name\": \"utter_None\"\n",
      "      },\n",
      "      \"ranking\": []\n",
      "    }\n",
      "  }\n",
      "}\n"
     ]
    }
   ],
   "source": [
    "pprint(interpreter.parse(\"I am fine thanks\"))"
   ]
  },
  {
   "cell_type": "code",
   "execution_count": 8,
   "metadata": {},
   "outputs": [
    {
     "name": "stdout",
     "output_type": "stream",
     "text": [
      "{\n",
      "  \"text\": \"Thank you\",\n",
      "  \"intent\": {\n",
      "    \"id\": -2060081205132760995,\n",
      "    \"name\": \"thank_you\",\n",
      "    \"confidence\": 0.9968551397323608\n",
      "  },\n",
      "  \"entities\": [],\n",
      "  \"intent_ranking\": [\n",
      "    {\n",
      "      \"id\": -2060081205132760995,\n",
      "      \"name\": \"thank_you\",\n",
      "      \"confidence\": 0.9968551397323608\n",
      "    },\n",
      "    {\n",
      "      \"id\": -3637056081654315957,\n",
      "      \"name\": \"bot_challenge\",\n",
      "      \"confidence\": 0.0025232124608010054\n",
      "    },\n",
      "    {\n",
      "      \"id\": 8801768551522549680,\n",
      "      \"name\": \"mood_great\",\n",
      "      \"confidence\": 0.00035780054167844355\n",
      "    },\n",
      "    {\n",
      "      \"id\": -3767365156534728919,\n",
      "      \"name\": \"deny\",\n",
      "      \"confidence\": 0.00016752966621425003\n",
      "    },\n",
      "    {\n",
      "      \"id\": -8492416158431785154,\n",
      "      \"name\": \"affirm\",\n",
      "      \"confidence\": 4.8679765313863754e-05\n",
      "    },\n",
      "    {\n",
      "      \"id\": 8266924324776116934,\n",
      "      \"name\": \"goodbye\",\n",
      "      \"confidence\": 3.417143670958467e-05\n",
      "    },\n",
      "    {\n",
      "      \"id\": -7863660608552312342,\n",
      "      \"name\": \"mood_unhappy\",\n",
      "      \"confidence\": 6.806338660680922e-06\n",
      "    },\n",
      "    {\n",
      "      \"id\": -6651140628253025356,\n",
      "      \"name\": \"greet\",\n",
      "      \"confidence\": 6.68545180815272e-06\n",
      "    }\n",
      "  ],\n",
      "  \"response_selector\": {\n",
      "    \"all_retrieval_intents\": [],\n",
      "    \"default\": {\n",
      "      \"response\": {\n",
      "        \"id\": null,\n",
      "        \"responses\": null,\n",
      "        \"response_templates\": null,\n",
      "        \"confidence\": 0.0,\n",
      "        \"intent_response_key\": null,\n",
      "        \"utter_action\": \"utter_None\",\n",
      "        \"template_name\": \"utter_None\"\n",
      "      },\n",
      "      \"ranking\": []\n",
      "    }\n",
      "  }\n",
      "}\n"
     ]
    }
   ],
   "source": [
    "pprint(interpreter.parse(\"Thank you\"))"
   ]
  },
  {
   "cell_type": "code",
   "execution_count": 9,
   "metadata": {},
   "outputs": [
    {
     "name": "stdout",
     "output_type": "stream",
     "text": [
      "{\n",
      "  \"text\": \"I would prefer a puppy\",\n",
      "  \"intent\": {\n",
      "    \"id\": 8801768551522549680,\n",
      "    \"name\": \"mood_great\",\n",
      "    \"confidence\": 0.8846246600151062\n",
      "  },\n",
      "  \"entities\": [],\n",
      "  \"intent_ranking\": [\n",
      "    {\n",
      "      \"id\": 8801768551522549680,\n",
      "      \"name\": \"mood_great\",\n",
      "      \"confidence\": 0.8846246600151062\n",
      "    },\n",
      "    {\n",
      "      \"id\": -7863660608552312342,\n",
      "      \"name\": \"mood_unhappy\",\n",
      "      \"confidence\": 0.10686986148357391\n",
      "    },\n",
      "    {\n",
      "      \"id\": -3637056081654315957,\n",
      "      \"name\": \"bot_challenge\",\n",
      "      \"confidence\": 0.003656716551631689\n",
      "    },\n",
      "    {\n",
      "      \"id\": 8266924324776116934,\n",
      "      \"name\": \"goodbye\",\n",
      "      \"confidence\": 0.0014053646009415388\n",
      "    },\n",
      "    {\n",
      "      \"id\": -6651140628253025356,\n",
      "      \"name\": \"greet\",\n",
      "      \"confidence\": 0.0013280218699947\n",
      "    },\n",
      "    {\n",
      "      \"id\": -8492416158431785154,\n",
      "      \"name\": \"affirm\",\n",
      "      \"confidence\": 0.0008994671516120434\n",
      "    },\n",
      "    {\n",
      "      \"id\": -2060081205132760995,\n",
      "      \"name\": \"thank_you\",\n",
      "      \"confidence\": 0.0008555885287933052\n",
      "    },\n",
      "    {\n",
      "      \"id\": -3767365156534728919,\n",
      "      \"name\": \"deny\",\n",
      "      \"confidence\": 0.0003603448567446321\n",
      "    }\n",
      "  ],\n",
      "  \"response_selector\": {\n",
      "    \"all_retrieval_intents\": [],\n",
      "    \"default\": {\n",
      "      \"response\": {\n",
      "        \"id\": null,\n",
      "        \"responses\": null,\n",
      "        \"response_templates\": null,\n",
      "        \"confidence\": 0.0,\n",
      "        \"intent_response_key\": null,\n",
      "        \"utter_action\": \"utter_None\",\n",
      "        \"template_name\": \"utter_None\"\n",
      "      },\n",
      "      \"ranking\": []\n",
      "    }\n",
      "  }\n",
      "}\n"
     ]
    }
   ],
   "source": [
    "pprint(interpreter.parse(\"I would prefer a puppy\"))"
   ]
  },
  {
   "cell_type": "code",
   "execution_count": 10,
   "metadata": {},
   "outputs": [
    {
     "name": "stdout",
     "output_type": "stream",
     "text": [
      "{\n",
      "  \"text\": \"I would have prefered a puppy\",\n",
      "  \"intent\": {\n",
      "    \"id\": 8801768551522549680,\n",
      "    \"name\": \"mood_great\",\n",
      "    \"confidence\": 0.9408574104309082\n",
      "  },\n",
      "  \"entities\": [],\n",
      "  \"intent_ranking\": [\n",
      "    {\n",
      "      \"id\": 8801768551522549680,\n",
      "      \"name\": \"mood_great\",\n",
      "      \"confidence\": 0.9408574104309082\n",
      "    },\n",
      "    {\n",
      "      \"id\": -7863660608552312342,\n",
      "      \"name\": \"mood_unhappy\",\n",
      "      \"confidence\": 0.03008890710771084\n",
      "    },\n",
      "    {\n",
      "      \"id\": 8266924324776116934,\n",
      "      \"name\": \"goodbye\",\n",
      "      \"confidence\": 0.022284917533397675\n",
      "    },\n",
      "    {\n",
      "      \"id\": -2060081205132760995,\n",
      "      \"name\": \"thank_you\",\n",
      "      \"confidence\": 0.002500376431271434\n",
      "    },\n",
      "    {\n",
      "      \"id\": -6651140628253025356,\n",
      "      \"name\": \"greet\",\n",
      "      \"confidence\": 0.0016584027325734496\n",
      "    },\n",
      "    {\n",
      "      \"id\": -8492416158431785154,\n",
      "      \"name\": \"affirm\",\n",
      "      \"confidence\": 0.001473387354053557\n",
      "    },\n",
      "    {\n",
      "      \"id\": -3637056081654315957,\n",
      "      \"name\": \"bot_challenge\",\n",
      "      \"confidence\": 0.0008898072992451489\n",
      "    },\n",
      "    {\n",
      "      \"id\": -3767365156534728919,\n",
      "      \"name\": \"deny\",\n",
      "      \"confidence\": 0.00024685030803084373\n",
      "    }\n",
      "  ],\n",
      "  \"response_selector\": {\n",
      "    \"all_retrieval_intents\": [],\n",
      "    \"default\": {\n",
      "      \"response\": {\n",
      "        \"id\": null,\n",
      "        \"responses\": null,\n",
      "        \"response_templates\": null,\n",
      "        \"confidence\": 0.0,\n",
      "        \"intent_response_key\": null,\n",
      "        \"utter_action\": \"utter_None\",\n",
      "        \"template_name\": \"utter_None\"\n",
      "      },\n",
      "      \"ranking\": []\n",
      "    }\n",
      "  }\n",
      "}\n"
     ]
    }
   ],
   "source": [
    "pprint(interpreter.parse(\"I would have prefered a puppy\"))"
   ]
  },
  {
   "cell_type": "code",
   "execution_count": 11,
   "metadata": {},
   "outputs": [
    {
     "name": "stdout",
     "output_type": "stream",
     "text": [
      "{\n",
      "  \"text\": \"I would like to thank you very much for this\",\n",
      "  \"intent\": {\n",
      "    \"id\": -2060081205132760995,\n",
      "    \"name\": \"thank_you\",\n",
      "    \"confidence\": 0.6712017059326172\n",
      "  },\n",
      "  \"entities\": [],\n",
      "  \"intent_ranking\": [\n",
      "    {\n",
      "      \"id\": -2060081205132760995,\n",
      "      \"name\": \"thank_you\",\n",
      "      \"confidence\": 0.6712017059326172\n",
      "    },\n",
      "    {\n",
      "      \"id\": -3767365156534728919,\n",
      "      \"name\": \"deny\",\n",
      "      \"confidence\": 0.13264404237270355\n",
      "    },\n",
      "    {\n",
      "      \"id\": -3637056081654315957,\n",
      "      \"name\": \"bot_challenge\",\n",
      "      \"confidence\": 0.0966126024723053\n",
      "    },\n",
      "    {\n",
      "      \"id\": 8801768551522549680,\n",
      "      \"name\": \"mood_great\",\n",
      "      \"confidence\": 0.08993498980998993\n",
      "    },\n",
      "    {\n",
      "      \"id\": 8266924324776116934,\n",
      "      \"name\": \"goodbye\",\n",
      "      \"confidence\": 0.0033780792728066444\n",
      "    },\n",
      "    {\n",
      "      \"id\": -7863660608552312342,\n",
      "      \"name\": \"mood_unhappy\",\n",
      "      \"confidence\": 0.003044979413971305\n",
      "    },\n",
      "    {\n",
      "      \"id\": -6651140628253025356,\n",
      "      \"name\": \"greet\",\n",
      "      \"confidence\": 0.002292061923071742\n",
      "    },\n",
      "    {\n",
      "      \"id\": -8492416158431785154,\n",
      "      \"name\": \"affirm\",\n",
      "      \"confidence\": 0.0008916007936932147\n",
      "    }\n",
      "  ],\n",
      "  \"response_selector\": {\n",
      "    \"all_retrieval_intents\": [],\n",
      "    \"default\": {\n",
      "      \"response\": {\n",
      "        \"id\": null,\n",
      "        \"responses\": null,\n",
      "        \"response_templates\": null,\n",
      "        \"confidence\": 0.0,\n",
      "        \"intent_response_key\": null,\n",
      "        \"utter_action\": \"utter_None\",\n",
      "        \"template_name\": \"utter_None\"\n",
      "      },\n",
      "      \"ranking\": []\n",
      "    }\n",
      "  }\n",
      "}\n"
     ]
    }
   ],
   "source": [
    "pprint(interpreter.parse(\"I would like to thank you very much for this\"))"
   ]
  },
  {
   "cell_type": "markdown",
   "metadata": {},
   "source": [
    "**Commentaires :**\n",
    "\n",
    "Pour chacun des tests, \"response_selector\" est null. Cela est dû au fait que nous interpretons le texte, aucune réponse n'est attendu de la part du système.\n",
    "\n",
    "La mauvaise interpretation de \"I am fine thank you\" est du au fait que le système ne doit pas connaitre fine en tant que good mood. De plus, le système ne comprend pas bien les phrase longue. En effet, \"I would like to thank you very much for this\" a un niveau de confiance plus bas que \"Thank you\" mais il le reconnait tout de même.\n",
    "\n",
    "De par ailleur, les phrase non connu tel que : \"I would prefer a puppy\" et \"I would have prefered a puppy\", sont classés en tant que \"mood_great\" à un haut niveau de confiance."
   ]
  },
  {
   "cell_type": "markdown",
   "metadata": {},
   "source": [
    "## PARTIE 6 : Evolution du chatbot et évaluation\n",
    "### 19- Intégration de nouvelles intents et d'entités\n",
    "\n",
    "#### 19.1- Que faut-il faire pour prendre en compte de nouvelles intentions (intent) qui permettraient de traiter des phrases comme : \n",
    "\n",
    "- I would like to see another animal \n",
    "- Do you have other animals to show\n",
    "- I want to see another picture\n",
    "\n",
    "Avec une réponse du type : I don't have any\n",
    "\n",
    "Avec une réponse du type : Here is another one (avec affichage d'une autre image). \n",
    "\n",
    "**Réponse :**\n",
    "\n",
    "Pour faire cela on doit creer un nouvel intent ainsi qu'une nouvelle action et une nouvelle règle."
   ]
  },
  {
   "cell_type": "markdown",
   "metadata": {},
   "source": [
    "**Faites le nécessaire au niveau du chatbot pour prendre en compte ces modifications et pour faire fonctionner le chatbot comme prévu.**"
   ]
  },
  {
   "cell_type": "markdown",
   "metadata": {},
   "source": [
    "#### 19.2- Que faut-il faire pour prendre en compte de nouvelles intentions (intent) qui permettraient de traiter des phrases comme : \n",
    "\n",
    "- I would like to see a puppy\n",
    "- Do you have any pictures of butterflies\n",
    "- I want to see a panda\n",
    "\n",
    "Avec une réponse du type : Let me see ... I found this \n",
    "\n",
    "en affichant une image prise sur internet ou disponible en local. \n"
   ]
  },
  {
   "cell_type": "raw",
   "metadata": {},
   "source": [
    "19.3) Créer une nouvelle version V2 (pour éviter d'écraser ce qui marche) et intégrer les modifications évoquées dans la questions précédente. \n",
    "-------------\n",
    "Indiquer quelles sont les modifications apportées. Fichier par fichier concernés par ces modifications\n",
    "-------------"
   ]
  },
  {
   "cell_type": "raw",
   "metadata": {},
   "source": [
    "19.4) Illustrer en donnant des exemples de dialogue incluant ce type d'échanges\n",
    "\n",
    "- User : I would like to see a puppy\n",
    "- Chatbot : Let me see ... I found this ... Does it help ? \n",
    "\n"
   ]
  },
  {
   "cell_type": "raw",
   "metadata": {},
   "source": [
    "Exemple 1"
   ]
  },
  {
   "cell_type": "raw",
   "metadata": {},
   "source": [
    "Exemple 2"
   ]
  },
  {
   "cell_type": "raw",
   "metadata": {},
   "source": [
    "19.5) Faire évoluer votre chatbot sur les mêmes principes. Commenter et illustrer ces ajouts (Demander quel est votre animal préféré, ajouter une table lookup pour gérer les synonymes ... ou ajouter d'autres règles"
   ]
  },
  {
   "cell_type": "raw",
   "metadata": {},
   "source": [
    "Evolution de votre chatbot et Commentaires associés"
   ]
  },
  {
   "cell_type": "raw",
   "metadata": {},
   "source": [
    "20- A partir de rasa x et l'onglet stories, observer les modèles de dialogue associés aux différentes stories. \n",
    "\n",
    "Faire une capture écran de l'un des graphes les plus représentatifs et insérer le dans la cellue suivante"
   ]
  },
  {
   "cell_type": "markdown",
   "metadata": {},
   "source": []
  },
  {
   "cell_type": "raw",
   "metadata": {},
   "source": [
    "21- Visualisation Quitter rasa x en fermant la fenêtre du navigateur ET en tapant ^C dans le terminal de lancement. \n",
    "\n",
    "Une fois rasa x attrêté, tapez la commande : rasa visualize\n",
    "    \n",
    "- Visualisez le fichier Graph.html \n",
    "- Insérer dans la cellule suivante une copie image de ce graphe (copie écran ou autre) \n",
    "\n",
    "Que représente-t-il ? "
   ]
  },
  {
   "cell_type": "markdown",
   "metadata": {},
   "source": []
  },
  {
   "cell_type": "raw",
   "metadata": {},
   "source": [
    "22- Evaluation de la nouvelle version\n",
    "--------------------------------------\n",
    "\n",
    "Constituer un fichier de test adapté à ce nouveau chatbot et reprendre les questions de la partie 2 - Q7  pour visualiser et commenter les résultats obtenus. "
   ]
  },
  {
   "cell_type": "raw",
   "metadata": {},
   "source": [
    "23- Faire un pdf de votre notebook, déposer une archive contenant votre chatbot CHATBOT_V1_VOTRE_NOM ainsi que la version ipynb et la version pfd de votre notebook. "
   ]
  }
 ],
 "metadata": {
  "kernelspec": {
   "display_name": "Python 3 (ipykernel)",
   "language": "python",
   "name": "python3"
  },
  "language_info": {
   "codemirror_mode": {
    "name": "ipython",
    "version": 3
   },
   "file_extension": ".py",
   "mimetype": "text/x-python",
   "name": "python",
   "nbconvert_exporter": "python",
   "pygments_lexer": "ipython3",
   "version": "3.7.16"
  }
 },
 "nbformat": 4,
 "nbformat_minor": 2
}
